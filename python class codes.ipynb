!pwd

/home/cse-lab/Desktop/B191286

!ls

B191286_pandas.ipynb  MELBOURNE_HOUSE_PRICES_LESS.csv
class_c1.ipynb	     python_c3.ipynb

!ls -l --block-size=M

total 8M
-rw-rw-r-- 1 cse-lab cse-lab 1M Aug 23 16:57 B12345_pandas.ipynb
-rw-rw-r-- 1 cse-lab cse-lab 1M Aug 27 12:07 class_c1.ipynb
-rw-rw-r-- 1 cse-lab cse-lab 7M Aug 23 14:27 MELBOURNE_HOUSE_PRICES_LESS.csv
-rw-rw-r-- 1 cse-lab cse-lab 1M Aug 27 15:18 python_c3.ipynb

s = "Hello World "
print(s)

Hello World 

a = 10
b = 15.5
print(type(a))
print(type(b))
print(type(s))

<class 'int'>
<class 'float'>
<class 'str'>

x = 10

print(x + 1)   # Addition
print(x - 1)   # Subtraction
print(x * 2)   # Multiplication
print(x ** 2)  # Exponentiation

11
9
20
100

x += 1
print(x)
x *= 2
print(x)

11
22

y = 2
print(type(y))
print(y, y + 1, y * 2, y ** 2)

<class 'int'>
2 3 4 4

t, f = True, False
print(type(t))

<class 'bool'>

print(t and f) # Logical AND;
print(t or f)  # Logical OR;
print(not t)   # Logical NOT;
print(t != f)  # Logical XOR;

False
True
False
True

hello = 'hello'   # String literals can use single quotes
world = "world"   # or double quotes; it does not matter
print(hello, len(hello))

hello 5

hw = hello + ' ' + world  # String concatenation
print(hw)

hello world

s = "hello"
print(s.capitalize())  # Capitalize a string
print(s.upper())       # Convert a string to uppercase; prints "HELLO"
print(s.rjust(7))      # Right-justify a string, padding with spaces
print(s.center(17))     # Center a string, padding with spaces
print(s.replace('l', 'ell'))  # Replace all instances of one substring with another
print('  wo rld '.strip())  # Strip leading and trailing whitespace

Hello
HELLO
  hello
      hello      
heellello
wo rld

List, Dictionary, Tuple, Set
Subsection

x = [1, 2, 4.5, "hello", [2, 5]]
print(x)

[1, 2, 4.5, 'hello', [2, 5]]

print(x[:])

[1, 2, 4.5, 'hello', [2, 5]]

x[2] = 10

x.append("World")
print(x)

[1, 2, 10, 'hello', [2, 5], 'World']

x.insert(0, 110)
print(x)

[110, 1, 2, 10, 'hello', [2, 5], 'World', 0]

x.remove('hello')

x.pop(3)

[2, 5]

print(x)

[1, 2, 10, 'World']

Dictionary

students = {"B1":"A", "B2":"B", "B3": 100}

print(students["B4"])

----------------------------------------------------
KeyError           Traceback (most recent call last)
<ipython-input-68-9f8867d57548> in <module>
----> 1 print(students["B4"])

KeyError: 'B4'

print(students.get("B4"))

None

print(students)

{'B2': 'B', 'B3': 100}

del students["B1"]

students = {"B1":"A", "B2":"B", "B3": 100}

print(students.keys())
print(students.values())

dict_keys(['B1', 'B2', 'B3'])
dict_values(['A', 'B', 100])

print(students.get("B1"))

A

Sets

x = {1, 2,3 , 4, 4, 5, 5}
y = {2, 4, 5, 6}
print(x)
print(x.intersection(y))
print(x.union(y))

{1, 2, 3, 4, 5}
{2, 4, 5}
{1, 2, 3, 4, 5, 6}

Tuple

x = (1, 2, 3, 4)
x[0] = 5

----------------------------------------------------
TypeError          Traceback (most recent call last)
<ipython-input-87-56eac2bf4022> in <module>
      1 x = (1, 2, 3, 4)
----> 2 x[0] = 5

TypeError: 'tuple' object does not support item assignment

students = {("c1", "B1"):"A", 
            ("c1", "B2"):"B", 
            ("c3", "B3"): 100
           }

students[("c1", "B1")]

'A'

def foo(x):
    return x**2

print(foo(6))

36

x = [1, 2, 4.5, "hello", [2, 5]]
for i in range(0, len(x)):
    print(x[i])

1
2
4.5
hello
[2, 5]

for element in x:
    print(element)

1
2
4.5
hello
[2, 5]

students = {("c1", "B1"):"A", 
            ("c1", "B2"):"B", 
            ("c3", "B3"): 100
           }

for key, value in students.items():
    print(key, " : ", value)
    

('c1', 'B1')  :  A
('c1', 'B2')  :  B
('c3', 'B3')  :  100

Matrix operations with Numpy

import numpy as np 

a = [[1, 2], [3, 4]]
b = [[5, 6], [7, 8]]
print(a + b)

[[1, 2], [3, 4], [5, 6], [7, 8]]

x = np.array(a)
y = np.array(b)
print(type(x), type(y))
print(x.shape, y.shape)

<class 'numpy.ndarray'> <class 'numpy.ndarray'>
(2, 2) (2, 2)

print(x)
print(y)

[[1 2]
 [3 4]]
[[5 6]
 [7 8]]

z = np.dot(x, y)#x @ y #np.add(x, y)#x + y
print(z)

[[19 22]
 [43 50]]

print(z.T)

[[19 43]
 [22 50]]

w = np.linalg.inv(x)

print(w)

[[-2.   1. ]
 [ 1.5 -0.5]]

a = np.zeros((10, 8))
print(a)

[[0. 0. 0. 0. 0. 0. 0. 0.]
 [0. 0. 0. 0. 0. 0. 0. 0.]
 [0. 0. 0. 0. 0. 0. 0. 0.]
 [0. 0. 0. 0. 0. 0. 0. 0.]
 [0. 0. 0. 0. 0. 0. 0. 0.]
 [0. 0. 0. 0. 0. 0. 0. 0.]
 [0. 0. 0. 0. 0. 0. 0. 0.]
 [0. 0. 0. 0. 0. 0. 0. 0.]
 [0. 0. 0. 0. 0. 0. 0. 0.]
 [0. 0. 0. 0. 0. 0. 0. 0.]]

a = np.ones((10, 8))
print(a)

[[1. 1. 1. 1. 1. 1. 1. 1.]
 [1. 1. 1. 1. 1. 1. 1. 1.]
 [1. 1. 1. 1. 1. 1. 1. 1.]
 [1. 1. 1. 1. 1. 1. 1. 1.]
 [1. 1. 1. 1. 1. 1. 1. 1.]
 [1. 1. 1. 1. 1. 1. 1. 1.]
 [1. 1. 1. 1. 1. 1. 1. 1.]
 [1. 1. 1. 1. 1. 1. 1. 1.]
 [1. 1. 1. 1. 1. 1. 1. 1.]
 [1. 1. 1. 1. 1. 1. 1. 1.]]

a = np.eye(5)
print(a)

[[1. 0. 0. 0. 0.]
 [0. 1. 0. 0. 0.]
 [0. 0. 1. 0. 0.]
 [0. 0. 0. 1. 0.]
 [0. 0. 0. 0. 1.]]

a = np.random.random((5, 6))
print(a)

[[0.61305466 0.97264318 0.35179801 0.32384506 0.18435825 0.50032281]
 [0.46785433 0.94688727 0.32231347 0.92890821 0.52899848 0.44921253]
 [0.18027841 0.60870015 0.57215706 0.73385385 0.07013119 0.16763529]
 [0.75702185 0.03900396 0.75815869 0.31253173 0.19393592 0.55397111]
 [0.23067244 0.90825144 0.56109908 0.40419849 0.82122918 0.42772633]]

x = np.arange(0, 10, 0.1)
y = np.sin(x)

print(x)
print(y)

[0.  0.1 0.2 0.3 0.4 0.5 0.6 0.7 0.8 0.9 1.  1.1 1.2 1.3 1.4 1.5 1.6 1.7
 1.8 1.9 2.  2.1 2.2 2.3 2.4 2.5 2.6 2.7 2.8 2.9 3.  3.1 3.2 3.3 3.4 3.5
 3.6 3.7 3.8 3.9 4.  4.1 4.2 4.3 4.4 4.5 4.6 4.7 4.8 4.9 5.  5.1 5.2 5.3
 5.4 5.5 5.6 5.7 5.8 5.9 6.  6.1 6.2 6.3 6.4 6.5 6.6 6.7 6.8 6.9 7.  7.1
 7.2 7.3 7.4 7.5 7.6 7.7 7.8 7.9 8.  8.1 8.2 8.3 8.4 8.5 8.6 8.7 8.8 8.9
 9.  9.1 9.2 9.3 9.4 9.5 9.6 9.7 9.8 9.9]
[ 0.          0.09983342  0.19866933  0.29552021  0.38941834  0.47942554
  0.56464247  0.64421769  0.71735609  0.78332691  0.84147098  0.89120736
  0.93203909  0.96355819  0.98544973  0.99749499  0.9995736   0.99166481
  0.97384763  0.94630009  0.90929743  0.86320937  0.8084964   0.74570521
  0.67546318  0.59847214  0.51550137  0.42737988  0.33498815  0.23924933
  0.14112001  0.04158066 -0.05837414 -0.15774569 -0.2555411  -0.35078323
 -0.44252044 -0.52983614 -0.61185789 -0.68776616 -0.7568025  -0.81827711
 -0.87157577 -0.91616594 -0.95160207 -0.97753012 -0.993691   -0.99992326
 -0.99616461 -0.98245261 -0.95892427 -0.92581468 -0.88345466 -0.83226744
 -0.77276449 -0.70554033 -0.63126664 -0.55068554 -0.46460218 -0.37387666
 -0.2794155  -0.1821625  -0.0830894   0.0168139   0.1165492   0.21511999
  0.31154136  0.40484992  0.49411335  0.57843976  0.6569866   0.72896904
  0.79366786  0.85043662  0.8987081   0.93799998  0.96791967  0.98816823
  0.99854335  0.99894134  0.98935825  0.96988981  0.94073056  0.90217183
  0.85459891  0.79848711  0.7343971   0.66296923  0.58491719  0.50102086
  0.41211849  0.31909836  0.22288991  0.12445442  0.02477543 -0.07515112
 -0.17432678 -0.27176063 -0.36647913 -0.45753589]

Data Visualization

Matplotlib

import matplotlib.pyplot as plt
import numpy as np

x = np.arange(0, 10, 0.1)
y = np.sin(x)
z = np.cos(x)

fig = plt.figure(figsize = (10, 6))

plt.scatter(x, y, 
            s = 20, 
            marker='*', 
            color = "white", 
            edgecolors="green", 
            alpha=1
        )

plt.scatter(x, z)

plt.show()

x = np.arange(3, 300, 3)
y = np.sin(x)
z = np.cos(x)

fig = plt.figure(figsize = (10, 6))
plt.plot(x, y, marker='o', color='r')
plt.plot(x, z, marker='*', color='b')
plt.show()

x = np.arange(0, 15, 0.1)
y = np.sin(x)
z = np.tan(x)

fig = plt.figure(figsize = (6, 6))
plt.plot(x, y, color='r')
plt.plot(x, z, marker='*', color='b')
plt.show()

Pie chart, Bar graph, Histogram

students = {"E": 10, "A":20, "B":30 , "C":25 , "D":10,  "P":5 }

categories = list(students.keys())
percentages = list(students.values())
print(categories)
print(percentages)

['E', 'A', 'B', 'C', 'D', 'P']
[10, 20, 30, 25, 10, 5]

fig = plt.figure(figsize = (6, 6))

plt.pie(x = percentages, labels = categories,
        colors = ["red","green","blue","yellow","pink","violet"],
        explode = [0.1, 0.1, 0.1, 0.1, 0.1, 0.1],
        shadow = True,
        autopct = "%0.2f%%",
       )


plt.title("Students Marks")
plt.legend(["Excellent", "A", "B", "C", "D", "Pass"])
plt.show()

fig = plt.figure(figsize = (6, 6))

plt.bar(x = categories, height = percentages,
        color = ["red","green","blue","yellow","pink","violet"],
        edgecolor = "black", 
        tick_label = ["Excellent", "A", "B", "C", "D", "Pass"],
    
       )
plt.xlabel("Categories")
plt.ylabel("Percentage")
plt.title("Marks")
plt.show()

fig = plt.figure(figsize = (6, 6))

plt.barh(y = categories, width = percentages,
        color = ["red","green","blue","yellow","pink","violet"],
        edgecolor = "black", 
        tick_label = ["Excellent", "A", "B", "C", "D", "Pass"],
    
       )

plt.show()

marks = [90, 76, 88, 65, 55, 43, 50, 81, 91, 77, 78, 72, 84, 39, 70]
print(len(marks))

15

fig = plt.figure(figsize = (6, 6))
plt.hist(marks, edgecolor = "black", bins = 2)
plt.show()

 39+(91-39)/2

65.0

np.array(marks) < 65

array([False, False, False, False,  True,  True,  True, False, False,
       False, False, False, False,  True, False])

Pandas

!pwd

/home/cse-lab/Desktop/B12345

!ls

B12345_pandas.ipynb  MELBOURNE_HOUSE_PRICES_LESS.csv
class_c1.ipynb	     python_c3.ipynb

import pandas as pd

df = pd.read_csv("MELBOURNE_HOUSE_PRICES_LESS.csv")

df.head(4)

	Suburb 	Address 	Rooms 	Type 	Price 	Method 	SellerG 	Date 	Postcode 	Regionname 	Propertycount 	Distance 	CouncilArea
0 	Abbotsford 	49 Lithgow St 	3 	h 	1490000.0 	S 	Jellis 	1/04/2017 	3067 	Northern Metropolitan 	4019 	3.0 	Yarra City Council
1 	Abbotsford 	59A Turner St 	3 	h 	1220000.0 	S 	Marshall 	1/04/2017 	3067 	Northern Metropolitan 	4019 	3.0 	Yarra City Council
2 	Abbotsford 	119B Yarra St 	3 	h 	1420000.0 	S 	Nelson 	1/04/2017 	3067 	Northern Metropolitan 	4019 	3.0 	Yarra City Council
3 	Aberfeldie 	68 Vida St 	3 	h 	1515000.0 	S 	Barry 	1/04/2017 	3040 	Western Metropolitan 	1543 	7.5 	Moonee Valley City Council

df.tail(4)

	Suburb 	Address 	Rooms 	Type 	Price 	Method 	SellerG 	Date 	Postcode 	Regionname 	Propertycount 	Distance 	CouncilArea
63019 	Roxburgh Park 	9 Parker Ct 	3 	h 	500000.0 	S 	Raine 	31/03/2018 	3064 	Northern Metropolitan 	5833 	20.6 	Hume City Council
63020 	Roxburgh Park 	5 Parkinson Wy 	3 	h 	545000.0 	S 	Raine 	31/03/2018 	3064 	Northern Metropolitan 	5833 	20.6 	Hume City Council
63021 	Thomastown 	3/1 Travers St 	3 	u 	NaN 	PI 	Barry 	31/03/2018 	3074 	Northern Metropolitan 	7955 	15.3 	Whittlesea City Council
63022 	Williams Landing 	1 Diadem Wy 	4 	h 	NaN 	SP 	Aussie 	31/03/2018 	3027 	Western Metropolitan 	1999 	17.6 	Wyndham City Council

df.sample(4)

	Suburb 	Address 	Rooms 	Type 	Price 	Method 	SellerG 	Date 	Postcode 	Regionname 	Propertycount 	Distance 	CouncilArea
3850 	Templestowe Lower 	1/285 Thompsons Rd 	4 	t 	1010000.0 	S 	Jellis 	3/06/2017 	3107 	Eastern Metropolitan 	5420 	12.4 	Manningham City Council
39995 	Mount Waverley 	378 Highbury Rd 	5 	h 	NaN 	PI 	Ray 	20/05/2017 	3149 	Eastern Metropolitan 	13366 	14.2 	Monash City Council
5973 	Black Rock 	2/45 Second St 	2 	u 	877000.0 	S 	Buxton 	4/03/2017 	3193 	Southern Metropolitan 	2866 	17.3 	Bayside City Council
52717 	Epping 	1 Greenbrook Dr 	3 	h 	575000.0 	S 	HAR 	26/05/2018 	3076 	Northern Metropolitan 	10926 	19.6 	Whittlesea City Council

#How many rows and columns
print(df.shape)

(63023, 13)

#Remove rows with missing data
df = df.dropna()

#How many rows and columns
print(df.shape)

(48433, 13)

rooms = list(df["Rooms"])
print(type(rooms))
print(len(rooms))

<class 'list'>
48433

print(rooms[:10])

[3, 3, 3, 3, 2, 2, 2, 3, 3, 3]

room_count = dict(df["Rooms"].value_counts())
print(room_count)

{3: 21812, 4: 11576, 2: 10674, 5: 2350, 1: 1670, 6: 283, 7: 36, 8: 19, 10: 6, 12: 2, 9: 2, 31: 1, 16: 1, 11: 1}

x = [7, 3]
labels = ["room_size_3", "room_size_2"]
plt.pie(x=, labels=labels)
plt.show()

plt.pie(x=list(room_count.values()), labels=list(room_count.keys()))
plt.show()

type_count = dict(df["Type"].value_counts())

print(type_count)

{'h': 34161, 'u': 9292, 't': 4980}

plt.bar(x= list(type_count.keys()), height=list(type_count.values()))
plt.show()

price = list(df["Price"])
print(len(price))
print(price[:10])

48433
[1490000.0, 1220000.0, 1420000.0, 1515000.0, 670000.0, 530000.0, 540000.0, 715000.0, 1925000.0, 515000.0]

plt.hist(price, edgecolor="black", bins=50)
plt.show()

price = list(df["Price"])
dist = list(df["Distance"])

plt.scatter(dist, price)
plt.show()

 

